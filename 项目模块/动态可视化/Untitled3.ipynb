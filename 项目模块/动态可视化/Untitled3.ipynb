{
 "cells": [
  {
   "cell_type": "code",
   "execution_count": 21,
   "metadata": {},
   "outputs": [],
   "source": [
    "import numpy as np\n",
    "import tensorflow as tf\n",
    "from PIL import Image"
   ]
  },
  {
   "cell_type": "code",
   "execution_count": 22,
   "metadata": {},
   "outputs": [
    {
     "name": "stdout",
     "output_type": "stream",
     "text": [
      "5\n"
     ]
    },
    {
     "data": {
      "text/plain": [
       "0"
      ]
     },
     "execution_count": 22,
     "metadata": {},
     "output_type": "execute_result"
    }
   ],
   "source": [
    "x = np.array(5)  # 0维张量/标量 ,就是一个数字\n",
    "print(x)\n",
    "x.ndim"
   ]
  },
  {
   "cell_type": "code",
   "execution_count": 23,
   "metadata": {},
   "outputs": [
    {
     "name": "stdout",
     "output_type": "stream",
     "text": [
      "[0 1 2 3 4]\n"
     ]
    },
    {
     "data": {
      "text/plain": [
       "1"
      ]
     },
     "execution_count": 23,
     "metadata": {},
     "output_type": "execute_result"
    }
   ],
   "source": [
    "y = np.array([x for x in range(5)]) # 1维张量/向量 ，一个数组\n",
    "print(y)\n",
    "y.ndim #查看有多少个坐标轴"
   ]
  },
  {
   "cell_type": "code",
   "execution_count": 20,
   "metadata": {},
   "outputs": [
    {
     "data": {
      "text/plain": [
       "<tf.Tensor: id=18, shape=(70, 66, 4), dtype=uint8, numpy=\n",
       "array([[[150, 129, 116, 255],\n",
       "        [150, 130, 116, 255],\n",
       "        [150, 130, 116, 255],\n",
       "        ...,\n",
       "        [138, 123, 113, 255],\n",
       "        [141, 125, 117, 255],\n",
       "        [140, 125, 117, 255]],\n",
       "\n",
       "       [[150, 129, 116, 255],\n",
       "        [150, 129, 116, 255],\n",
       "        [150, 129, 116, 255],\n",
       "        ...,\n",
       "        [138, 123, 113, 255],\n",
       "        [138, 123, 115, 255],\n",
       "        [134, 118, 111, 255]],\n",
       "\n",
       "       [[148, 130, 119, 255],\n",
       "        [148, 130, 118, 255],\n",
       "        [150, 130, 118, 255],\n",
       "        ...,\n",
       "        [137, 121, 114, 255],\n",
       "        [132, 116, 106, 255],\n",
       "        [131, 115, 105, 255]],\n",
       "\n",
       "       ...,\n",
       "\n",
       "       [[149, 150, 139, 255],\n",
       "        [149, 150, 138, 255],\n",
       "        [150, 151, 139, 255],\n",
       "        ...,\n",
       "        [158, 149, 140, 255],\n",
       "        [159, 151, 142, 255],\n",
       "        [158, 149, 140, 255]],\n",
       "\n",
       "       [[149, 150, 138, 255],\n",
       "        [149, 150, 139, 255],\n",
       "        [149, 150, 138, 255],\n",
       "        ...,\n",
       "        [159, 151, 141, 255],\n",
       "        [158, 150, 140, 255],\n",
       "        [159, 151, 141, 255]],\n",
       "\n",
       "       [[149, 150, 138, 255],\n",
       "        [149, 150, 138, 255],\n",
       "        [149, 150, 138, 255],\n",
       "        ...,\n",
       "        [159, 151, 141, 255],\n",
       "        [158, 149, 140, 255],\n",
       "        [159, 151, 142, 255]]], dtype=uint8)>"
      ]
     },
     "execution_count": 20,
     "metadata": {},
     "output_type": "execute_result"
    }
   ],
   "source": [
    "file = tf.io.read_file('1.png')\n",
    "tf.image.decode_image(file)"
   ]
  },
  {
   "cell_type": "code",
   "execution_count": 26,
   "metadata": {},
   "outputs": [
    {
     "data": {
      "text/plain": [
       "<tf.Tensor: id=48, shape=(512, 512, 4), dtype=uint8, numpy=\n",
       "array([[[0, 0, 0, 0],\n",
       "        [0, 0, 0, 0],\n",
       "        [0, 0, 0, 0],\n",
       "        ...,\n",
       "        [0, 0, 0, 0],\n",
       "        [0, 0, 0, 0],\n",
       "        [0, 0, 0, 0]],\n",
       "\n",
       "       [[0, 0, 0, 0],\n",
       "        [0, 0, 0, 0],\n",
       "        [0, 0, 0, 0],\n",
       "        ...,\n",
       "        [0, 0, 0, 0],\n",
       "        [0, 0, 0, 0],\n",
       "        [0, 0, 0, 0]],\n",
       "\n",
       "       [[0, 0, 0, 0],\n",
       "        [0, 0, 0, 0],\n",
       "        [0, 0, 0, 0],\n",
       "        ...,\n",
       "        [0, 0, 0, 0],\n",
       "        [0, 0, 0, 0],\n",
       "        [0, 0, 0, 0]],\n",
       "\n",
       "       ...,\n",
       "\n",
       "       [[0, 0, 0, 0],\n",
       "        [0, 0, 0, 0],\n",
       "        [0, 0, 0, 0],\n",
       "        ...,\n",
       "        [0, 0, 0, 0],\n",
       "        [0, 0, 0, 0],\n",
       "        [0, 0, 0, 0]],\n",
       "\n",
       "       [[0, 0, 0, 0],\n",
       "        [0, 0, 0, 0],\n",
       "        [0, 0, 0, 0],\n",
       "        ...,\n",
       "        [0, 0, 0, 0],\n",
       "        [0, 0, 0, 0],\n",
       "        [0, 0, 0, 0]],\n",
       "\n",
       "       [[0, 0, 0, 0],\n",
       "        [0, 0, 0, 0],\n",
       "        [0, 0, 0, 0],\n",
       "        ...,\n",
       "        [0, 0, 0, 0],\n",
       "        [0, 0, 0, 0],\n",
       "        [0, 0, 0, 0]]], dtype=uint8)>"
      ]
     },
     "execution_count": 26,
     "metadata": {},
     "output_type": "execute_result"
    }
   ],
   "source": [
    "file = tf.io.read_file('图标.png')\n",
    "tf.image.decode_image(file)\n"
   ]
  },
  {
   "cell_type": "code",
   "execution_count": null,
   "metadata": {},
   "outputs": [],
   "source": []
  }
 ],
 "metadata": {
  "kernelspec": {
   "display_name": "Python 3",
   "language": "python",
   "name": "python3"
  },
  "language_info": {
   "codemirror_mode": {
    "name": "ipython",
    "version": 3
   },
   "file_extension": ".py",
   "mimetype": "text/x-python",
   "name": "python",
   "nbconvert_exporter": "python",
   "pygments_lexer": "ipython3",
   "version": "3.6.7"
  }
 },
 "nbformat": 4,
 "nbformat_minor": 2
}
